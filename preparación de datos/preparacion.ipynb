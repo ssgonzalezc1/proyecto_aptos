{
 "cells": [
  {
   "cell_type": "code",
   "execution_count": 78,
   "metadata": {},
   "outputs": [],
   "source": [
    "import pandas as pd\n",
    "\n",
    "#cargar los datos a un DataFrame\n",
    "archivo_excel = \"C:\\\\Users\\\\ssgon\\\\OneDrive - Universidad de los andes\\\\2025-1\\\\Analitica\\\\proyecto_aptos\\\\datos_apartamentos_rent.xlsx\"\n",
    "df = pd.read_excel(archivo_excel)"
   ]
  },
  {
   "cell_type": "code",
   "execution_count": 79,
   "metadata": {},
   "outputs": [
    {
     "name": "stdout",
     "output_type": "stream",
     "text": [
      "<class 'pandas.core.frame.DataFrame'>\n",
      "RangeIndex: 10000 entries, 0 to 9999\n",
      "Data columns (total 22 columns):\n",
      " #   Column         Non-Null Count  Dtype  \n",
      "---  ------         --------------  -----  \n",
      " 0   id             10000 non-null  int64  \n",
      " 1   category       10000 non-null  object \n",
      " 2   title          10000 non-null  object \n",
      " 3   body           10000 non-null  object \n",
      " 4   amenities      6451 non-null   object \n",
      " 5   bathrooms      9966 non-null   float64\n",
      " 6   bedrooms       9993 non-null   float64\n",
      " 7   currency       10000 non-null  object \n",
      " 8   fee            10000 non-null  object \n",
      " 9   has_photo      10000 non-null  object \n",
      " 10  pets_allowed   5837 non-null   object \n",
      " 11  price          10000 non-null  int64  \n",
      " 12  price_display  10000 non-null  object \n",
      " 13  price_type     10000 non-null  object \n",
      " 14  square_feet    10000 non-null  int64  \n",
      " 15  address        6673 non-null   object \n",
      " 16  cityname       9923 non-null   object \n",
      " 17  state          9923 non-null   object \n",
      " 18  latitude       9990 non-null   float64\n",
      " 19  longitude      9990 non-null   float64\n",
      " 20  source         10000 non-null  object \n",
      " 21  time           10000 non-null  int64  \n",
      "dtypes: float64(4), int64(4), object(14)\n",
      "memory usage: 1.7+ MB\n",
      "None\n"
     ]
    }
   ],
   "source": [
    "# Ver la información general del dataframe\n",
    "print(df.info())"
   ]
  },
  {
   "cell_type": "code",
   "execution_count": 80,
   "metadata": {},
   "outputs": [
    {
     "name": "stdout",
     "output_type": "stream",
     "text": [
      "                 id    bathrooms     bedrooms         price   square_feet  \\\n",
      "count  1.000000e+04  9966.000000  9993.000000  10000.000000  10000.000000   \n",
      "mean   5.623396e+09     1.380544     1.744021   1486.277500    945.810500   \n",
      "std    7.021025e+07     0.615410     0.942354   1076.507968    655.755736   \n",
      "min    5.508654e+09     1.000000     0.000000    200.000000    101.000000   \n",
      "25%    5.509248e+09     1.000000     1.000000    949.000000    649.000000   \n",
      "50%    5.668610e+09     1.000000     2.000000   1270.000000    802.000000   \n",
      "75%    5.668626e+09     2.000000     2.000000   1695.000000   1100.000000   \n",
      "max    5.668663e+09     8.500000     9.000000  52500.000000  40000.000000   \n",
      "\n",
      "          latitude    longitude          time  \n",
      "count  9990.000000  9990.000000  1.000000e+04  \n",
      "mean     37.695162   -94.652247  1.574891e+09  \n",
      "std       5.495851    15.759805  3.762395e+06  \n",
      "min      21.315500  -158.022100  1.568744e+09  \n",
      "25%      33.679850  -101.301700  1.568781e+09  \n",
      "50%      38.809800   -93.651600  1.577358e+09  \n",
      "75%      41.349800   -82.209975  1.577359e+09  \n",
      "max      61.594000   -70.191600  1.577362e+09  \n"
     ]
    }
   ],
   "source": [
    "# Resumen estadístico de las variables numéricas\n",
    "print(df.describe())"
   ]
  },
  {
   "cell_type": "code",
   "execution_count": 81,
   "metadata": {},
   "outputs": [
    {
     "name": "stdout",
     "output_type": "stream",
     "text": [
      "id                  0\n",
      "category            0\n",
      "title               0\n",
      "body                0\n",
      "amenities        3549\n",
      "bathrooms          34\n",
      "bedrooms            7\n",
      "currency            0\n",
      "fee                 0\n",
      "has_photo           0\n",
      "pets_allowed     4163\n",
      "price               0\n",
      "price_display       0\n",
      "price_type          0\n",
      "square_feet         0\n",
      "address          3327\n",
      "cityname           77\n",
      "state              77\n",
      "latitude           10\n",
      "longitude          10\n",
      "source              0\n",
      "time                0\n",
      "dtype: int64\n"
     ]
    }
   ],
   "source": [
    "# Contar valores nulos por columna\n",
    "print(df.isnull().sum())"
   ]
  },
  {
   "cell_type": "code",
   "execution_count": 82,
   "metadata": {},
   "outputs": [
    {
     "name": "stdout",
     "output_type": "stream",
     "text": [
      "id               10000\n",
      "category             3\n",
      "title             9350\n",
      "body              9961\n",
      "amenities         2254\n",
      "bathrooms           14\n",
      "bedrooms            10\n",
      "currency             1\n",
      "fee                  1\n",
      "has_photo            3\n",
      "pets_allowed         3\n",
      "price             1725\n",
      "price_display     1726\n",
      "price_type           3\n",
      "square_feet       1738\n",
      "address           6658\n",
      "cityname          1574\n",
      "state               51\n",
      "latitude          2395\n",
      "longitude         2392\n",
      "source              12\n",
      "time              6310\n",
      "dtype: int64\n",
      "['USD']\n",
      "['No']\n",
      "['housing/rent/apartment' 'housing/rent/home' 'housing/rent/short_term']\n",
      "['Thumbnail' 'Yes' 'No']\n",
      "[nan 'Cats,Dogs' 'Cats' 'Dogs']\n",
      "['Monthly' 'Weekly' 'Monthly|Weekly']\n"
     ]
    }
   ],
   "source": [
    "#visualizar valores unicos\n",
    "print(df.nunique())\n",
    "\n",
    "print(df[\"currency\"].unique())\n",
    "print(df[\"fee\"].unique())\n",
    "print(df[\"category\"].unique())\n",
    "print(df[\"has_photo\"].unique())\n",
    "print(df[\"pets_allowed\"].unique())\n",
    "print(df[\"price_type\"].unique())"
   ]
  },
  {
   "cell_type": "code",
   "execution_count": 83,
   "metadata": {},
   "outputs": [],
   "source": [
    "#Eliminar columnas no relevantes\n",
    "df = df.drop(columns=[\"title\", \"body\", \"currency\", \"fee\", \"price_display\", \"address\"])\n"
   ]
  },
  {
   "cell_type": "code",
   "execution_count": 84,
   "metadata": {},
   "outputs": [
    {
     "name": "stdout",
     "output_type": "stream",
     "text": [
      "id                 0\n",
      "category           0\n",
      "amenities       3549\n",
      "bathrooms         34\n",
      "bedrooms           7\n",
      "has_photo          0\n",
      "pets_allowed    4163\n",
      "price              0\n",
      "price_type         0\n",
      "square_feet        0\n",
      "cityname          77\n",
      "state             77\n",
      "latitude          10\n",
      "longitude         10\n",
      "source             0\n",
      "time               0\n",
      "dtype: int64\n"
     ]
    }
   ],
   "source": [
    "#Contar valores nulos\n",
    "print(df.isnull().sum())"
   ]
  },
  {
   "cell_type": "code",
   "execution_count": 85,
   "metadata": {},
   "outputs": [],
   "source": [
    "#Rellenar valores nulos\n",
    "\n",
    "#Se asume que nulos en mascotas significa que no se permiten mascotas\n",
    "df[\"pets_allowed\"] = df[\"pets_allowed\"].fillna(\"No\")\n",
    "\n",
    "#Se remplaza los nulos de baños y habitaciones con la mediana\n",
    "df[\"bathrooms\"] = df[\"bathrooms\"].fillna(df[\"bathrooms\"].median())\n",
    "df[\"bedrooms\"] = df[\"bedrooms\"].fillna(df[\"bedrooms\"].median())\n"
   ]
  },
  {
   "cell_type": "code",
   "execution_count": 86,
   "metadata": {},
   "outputs": [
    {
     "name": "stdout",
     "output_type": "stream",
     "text": [
      "id                 0\n",
      "category           0\n",
      "amenities       3549\n",
      "bathrooms          0\n",
      "bedrooms           0\n",
      "has_photo          0\n",
      "pets_allowed       0\n",
      "price              0\n",
      "price_type         0\n",
      "square_feet        0\n",
      "cityname          77\n",
      "state             77\n",
      "latitude          10\n",
      "longitude         10\n",
      "source             0\n",
      "time               0\n",
      "dtype: int64\n"
     ]
    }
   ],
   "source": [
    "#Contar valores nulos\n",
    "print(df.isnull().sum())"
   ]
  },
  {
   "cell_type": "code",
   "execution_count": 87,
   "metadata": {},
   "outputs": [],
   "source": [
    "#Remplazar nulos de ciudades y estados con la moda\n",
    "df[\"cityname\"] = df[\"cityname\"].fillna(df[\"cityname\"].mode()[0])\n",
    "df[\"state\"] = df[\"state\"].fillna(df[\"state\"].mode()[0])\n",
    "df[\"latitude\"] = df[\"latitude\"].fillna(df[\"latitude\"].mode()[0])\n",
    "df[\"longitude\"] = df[\"longitude\"].fillna(df[\"longitude\"].mode()[0])"
   ]
  },
  {
   "cell_type": "code",
   "execution_count": 88,
   "metadata": {},
   "outputs": [
    {
     "name": "stdout",
     "output_type": "stream",
     "text": [
      "id                 0\n",
      "category           0\n",
      "amenities       3549\n",
      "bathrooms          0\n",
      "bedrooms           0\n",
      "has_photo          0\n",
      "pets_allowed       0\n",
      "price              0\n",
      "price_type         0\n",
      "square_feet        0\n",
      "cityname           0\n",
      "state              0\n",
      "latitude           0\n",
      "longitude          0\n",
      "source             0\n",
      "time               0\n",
      "dtype: int64\n"
     ]
    }
   ],
   "source": [
    "#Contar valores nulos\n",
    "print(df.isnull().sum())"
   ]
  },
  {
   "cell_type": "code",
   "execution_count": 89,
   "metadata": {},
   "outputs": [
    {
     "name": "stdout",
     "output_type": "stream",
     "text": [
      "             id                category  \\\n",
      "235  5625835116  housing/rent/apartment   \n",
      "\n",
      "                                           amenities  bathrooms  bedrooms  \\\n",
      "235  Cable or Satellite,Pool,Refrigerator,Storage,TV        1.0       2.0   \n",
      "\n",
      "     has_photo pets_allowed  price      price_type  square_feet  cityname  \\\n",
      "235  Thumbnail    Cats,Dogs    275  Monthly|Weekly          300  Lakeland   \n",
      "\n",
      "    state  latitude  longitude     source        time  \n",
      "235    FL   28.0451   -81.9689  ListedBuy  1574891000  \n",
      "            id                category  \\\n",
      "15  5659276240  housing/rent/apartment   \n",
      "\n",
      "                                            amenities  bathrooms  bedrooms  \\\n",
      "15  AC,Basketball,Cable or Satellite,Gym,Internet ...        1.0       1.0   \n",
      "\n",
      "    has_photo pets_allowed  price price_type  square_feet  cityname state  \\\n",
      "15  Thumbnail    Cats,Dogs   1560     Weekly          200  New Bern    NC   \n",
      "\n",
      "    latitude  longitude     source        time  \n",
      "15   35.0847   -77.0609  ListedBuy  1576618076  \n"
     ]
    }
   ],
   "source": [
    "#Todos los precios en mensuales\n",
    "print(df[df[\"price_type\"] == \"Monthly|Weekly\"])\n",
    "print(df[df[\"price_type\"] == \"Weekly\"])\n",
    "\n",
    "def volver_mensual(fila):\n",
    "    if fila[\"price_type\"] == \"Weekly\":\n",
    "        fila[\"price\"] = fila[\"price\"] * 4\n",
    "    return fila\n",
    "\n",
    "df = df.apply(volver_mensual, axis=1)"
   ]
  },
  {
   "cell_type": "code",
   "execution_count": 90,
   "metadata": {},
   "outputs": [],
   "source": [
    "#Contar el numero de amenities\n",
    "df[\"amenities_count\"] = df[\"amenities\"].apply(lambda x: len(str(x).split(\",\")) if pd.notna(x) else 0)\n"
   ]
  },
  {
   "cell_type": "code",
   "execution_count": 91,
   "metadata": {},
   "outputs": [
    {
     "name": "stdout",
     "output_type": "stream",
     "text": [
      "           id amenities  bathrooms  bedrooms  price price_type  square_feet  \\\n",
      "0  5668626895       NaN        1.0       0.0    790    Monthly          101   \n",
      "1  5664597177       NaN        1.0       1.0    425    Monthly          106   \n",
      "2  5668626833       NaN        1.0       0.0   1390    Monthly          107   \n",
      "3  5659918074       NaN        1.0       0.0    925    Monthly          116   \n",
      "4  5668626759       NaN        1.0       0.0    880    Monthly          125   \n",
      "\n",
      "     cityname state  latitude  ...  source_Listanza  source_ListedBuy  \\\n",
      "0  Washington    DC   38.9057  ...              0.0               0.0   \n",
      "1  Evansville    IN   37.9680  ...              0.0               0.0   \n",
      "2   Arlington    VA   38.8910  ...              0.0               0.0   \n",
      "3     Seattle    WA   47.6160  ...              0.0               0.0   \n",
      "4   Arlington    VA   38.8738  ...              0.0               0.0   \n",
      "\n",
      "   source_RENTCafé  source_RENTOCULAR  source_Real Estate Agent  \\\n",
      "0              0.0                0.0                       0.0   \n",
      "1              0.0                0.0                       0.0   \n",
      "2              0.0                0.0                       0.0   \n",
      "3              0.0                0.0                       0.0   \n",
      "4              0.0                0.0                       0.0   \n",
      "\n",
      "   source_RealRentals  source_RentDigs.com  source_RentLingo  source_rentbits  \\\n",
      "0                 0.0                  0.0               1.0              0.0   \n",
      "1                 0.0                  0.0               1.0              0.0   \n",
      "2                 0.0                  0.0               1.0              0.0   \n",
      "3                 0.0                  0.0               1.0              0.0   \n",
      "4                 0.0                  0.0               1.0              0.0   \n",
      "\n",
      "   source_tenantcloud  \n",
      "0                 0.0  \n",
      "1                 0.0  \n",
      "2                 0.0  \n",
      "3                 0.0  \n",
      "4                 0.0  \n",
      "\n",
      "[5 rows x 31 columns]\n"
     ]
    }
   ],
   "source": [
    "#Cambiar variables categoricas a formato númerico\n",
    "from sklearn.preprocessing import OneHotEncoder\n",
    "import pandas as pd\n",
    "\n",
    "# Definir las columnas categóricas a convertir\n",
    "one_hot_cols = [\"category\", \"has_photo\", \"pets_allowed\", \"source\"]\n",
    "\n",
    "# Inicializar el encoder con sparse_output=False para obtener un DataFrame normal\n",
    "encoder = OneHotEncoder(sparse_output=False, drop=\"first\")  # drop=\"first\" evita multicolinealidad\n",
    "\n",
    "# Ajustar y transformar los datos\n",
    "encoded_data = encoder.fit_transform(df[one_hot_cols])\n",
    "\n",
    "# Convertir a DataFrame con nombres de columnas\n",
    "encoded_df = pd.DataFrame(encoded_data, columns=encoder.get_feature_names_out(one_hot_cols))\n",
    "\n",
    "# Unir con el DataFrame original y eliminar las columnas categóricas originales\n",
    "df = df.drop(columns=one_hot_cols).reset_index(drop=True)\n",
    "df = pd.concat([df, encoded_df], axis=1)\n",
    "\n",
    "# Verificar los cambios\n",
    "print(df.head())"
   ]
  },
  {
   "cell_type": "code",
   "execution_count": 92,
   "metadata": {},
   "outputs": [],
   "source": [
    "from sklearn.preprocessing import LabelEncoder\n",
    "\n",
    "label_encoder = LabelEncoder()\n",
    "\n",
    "label_cols = [\"cityname\", \"state\"]\n",
    "for col in label_cols:\n",
    "    df[col] = label_encoder.fit_transform(df[col])\n"
   ]
  },
  {
   "cell_type": "code",
   "execution_count": 94,
   "metadata": {},
   "outputs": [
    {
     "name": "stdout",
     "output_type": "stream",
     "text": [
      "id                                     0\n",
      "amenities                           3549\n",
      "bathrooms                              0\n",
      "bedrooms                               0\n",
      "price                                  0\n",
      "price_type                             0\n",
      "square_feet                            0\n",
      "cityname                               0\n",
      "state                                  0\n",
      "latitude                               0\n",
      "longitude                              0\n",
      "time                                   0\n",
      "amenities_count                        0\n",
      "category_housing/rent/home             0\n",
      "category_housing/rent/short_term       0\n",
      "has_photo_Thumbnail                    0\n",
      "has_photo_Yes                          0\n",
      "pets_allowed_Cats,Dogs                 0\n",
      "pets_allowed_Dogs                      0\n",
      "pets_allowed_No                        0\n",
      "source_Home Rentals                    0\n",
      "source_Listanza                        0\n",
      "source_ListedBuy                       0\n",
      "source_RENTCafé                        0\n",
      "source_RENTOCULAR                      0\n",
      "source_Real Estate Agent               0\n",
      "source_RealRentals                     0\n",
      "source_RentDigs.com                    0\n",
      "source_RentLingo                       0\n",
      "source_rentbits                        0\n",
      "source_tenantcloud                     0\n",
      "dtype: int64\n"
     ]
    }
   ],
   "source": [
    "#Contar valores nulos\n",
    "print(df.isnull().sum())"
   ]
  },
  {
   "cell_type": "code",
   "execution_count": 95,
   "metadata": {},
   "outputs": [],
   "source": [
    "#eliminar columnas no relevantes\n",
    "df = df.drop(columns=[\"amenities\", \"price_type\", ])"
   ]
  },
  {
   "cell_type": "code",
   "execution_count": null,
   "metadata": {},
   "outputs": [],
   "source": []
  }
 ],
 "metadata": {
  "kernelspec": {
   "display_name": "Python 3",
   "language": "python",
   "name": "python3"
  },
  "language_info": {
   "codemirror_mode": {
    "name": "ipython",
    "version": 3
   },
   "file_extension": ".py",
   "mimetype": "text/x-python",
   "name": "python",
   "nbconvert_exporter": "python",
   "pygments_lexer": "ipython3",
   "version": "3.11.9"
  }
 },
 "nbformat": 4,
 "nbformat_minor": 2
}
