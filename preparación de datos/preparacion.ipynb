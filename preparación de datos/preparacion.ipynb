{
 "cells": [
  {
   "cell_type": "code",
   "execution_count": 14,
   "metadata": {},
   "outputs": [],
   "source": [
    "import pandas as pd\n",
    "\n",
    "#cargar los datos a un DataFrame\n",
    "archivo_excel = \"C:\\\\Users\\\\ssgon\\\\OneDrive - Universidad de los andes\\\\2025-1\\\\Analitica\\\\proyecto_aptos\\\\datos_apartamentos_rent.xlsx\"\n",
    "df = pd.read_excel(archivo_excel)"
   ]
  },
  {
   "cell_type": "code",
   "execution_count": 15,
   "metadata": {},
   "outputs": [
    {
     "name": "stdout",
     "output_type": "stream",
     "text": [
      "<class 'pandas.core.frame.DataFrame'>\n",
      "RangeIndex: 10000 entries, 0 to 9999\n",
      "Data columns (total 22 columns):\n",
      " #   Column         Non-Null Count  Dtype  \n",
      "---  ------         --------------  -----  \n",
      " 0   id             10000 non-null  int64  \n",
      " 1   category       10000 non-null  object \n",
      " 2   title          10000 non-null  object \n",
      " 3   body           10000 non-null  object \n",
      " 4   amenities      6451 non-null   object \n",
      " 5   bathrooms      9966 non-null   float64\n",
      " 6   bedrooms       9993 non-null   float64\n",
      " 7   currency       10000 non-null  object \n",
      " 8   fee            10000 non-null  object \n",
      " 9   has_photo      10000 non-null  object \n",
      " 10  pets_allowed   5837 non-null   object \n",
      " 11  price          10000 non-null  int64  \n",
      " 12  price_display  10000 non-null  object \n",
      " 13  price_type     10000 non-null  object \n",
      " 14  square_feet    10000 non-null  int64  \n",
      " 15  address        6673 non-null   object \n",
      " 16  cityname       9923 non-null   object \n",
      " 17  state          9923 non-null   object \n",
      " 18  latitude       9990 non-null   float64\n",
      " 19  longitude      9990 non-null   float64\n",
      " 20  source         10000 non-null  object \n",
      " 21  time           10000 non-null  int64  \n",
      "dtypes: float64(4), int64(4), object(14)\n",
      "memory usage: 1.7+ MB\n",
      "None\n"
     ]
    }
   ],
   "source": [
    "# Ver la información general del dataframe\n",
    "print(df.info())"
   ]
  },
  {
   "cell_type": "code",
   "execution_count": 16,
   "metadata": {},
   "outputs": [
    {
     "name": "stdout",
     "output_type": "stream",
     "text": [
      "                 id    bathrooms     bedrooms         price   square_feet  \\\n",
      "count  1.000000e+04  9966.000000  9993.000000  10000.000000  10000.000000   \n",
      "mean   5.623396e+09     1.380544     1.744021   1486.277500    945.810500   \n",
      "std    7.021025e+07     0.615410     0.942354   1076.507968    655.755736   \n",
      "min    5.508654e+09     1.000000     0.000000    200.000000    101.000000   \n",
      "25%    5.509248e+09     1.000000     1.000000    949.000000    649.000000   \n",
      "50%    5.668610e+09     1.000000     2.000000   1270.000000    802.000000   \n",
      "75%    5.668626e+09     2.000000     2.000000   1695.000000   1100.000000   \n",
      "max    5.668663e+09     8.500000     9.000000  52500.000000  40000.000000   \n",
      "\n",
      "          latitude    longitude          time  \n",
      "count  9990.000000  9990.000000  1.000000e+04  \n",
      "mean     37.695162   -94.652247  1.574891e+09  \n",
      "std       5.495851    15.759805  3.762395e+06  \n",
      "min      21.315500  -158.022100  1.568744e+09  \n",
      "25%      33.679850  -101.301700  1.568781e+09  \n",
      "50%      38.809800   -93.651600  1.577358e+09  \n",
      "75%      41.349800   -82.209975  1.577359e+09  \n",
      "max      61.594000   -70.191600  1.577362e+09  \n"
     ]
    }
   ],
   "source": [
    "# Resumen estadístico de las variables numéricas\n",
    "print(df.describe())"
   ]
  },
  {
   "cell_type": "code",
   "execution_count": 17,
   "metadata": {},
   "outputs": [
    {
     "name": "stdout",
     "output_type": "stream",
     "text": [
      "id                  0\n",
      "category            0\n",
      "title               0\n",
      "body                0\n",
      "amenities        3549\n",
      "bathrooms          34\n",
      "bedrooms            7\n",
      "currency            0\n",
      "fee                 0\n",
      "has_photo           0\n",
      "pets_allowed     4163\n",
      "price               0\n",
      "price_display       0\n",
      "price_type          0\n",
      "square_feet         0\n",
      "address          3327\n",
      "cityname           77\n",
      "state              77\n",
      "latitude           10\n",
      "longitude          10\n",
      "source              0\n",
      "time                0\n",
      "dtype: int64\n"
     ]
    }
   ],
   "source": [
    "# Contar valores nulos por columna\n",
    "print(df.isnull().sum())"
   ]
  },
  {
   "cell_type": "code",
   "execution_count": 18,
   "metadata": {},
   "outputs": [
    {
     "name": "stdout",
     "output_type": "stream",
     "text": [
      "id               10000\n",
      "category             3\n",
      "title             9350\n",
      "body              9961\n",
      "amenities         2254\n",
      "bathrooms           14\n",
      "bedrooms            10\n",
      "currency             1\n",
      "fee                  1\n",
      "has_photo            3\n",
      "pets_allowed         3\n",
      "price             1725\n",
      "price_display     1726\n",
      "price_type           3\n",
      "square_feet       1738\n",
      "address           6658\n",
      "cityname          1574\n",
      "state               51\n",
      "latitude          2395\n",
      "longitude         2392\n",
      "source              12\n",
      "time              6310\n",
      "dtype: int64\n",
      "['USD']\n",
      "['No']\n",
      "['housing/rent/apartment' 'housing/rent/home' 'housing/rent/short_term']\n",
      "['Thumbnail' 'Yes' 'No']\n",
      "[nan 'Cats,Dogs' 'Cats' 'Dogs']\n",
      "['Monthly' 'Weekly' 'Monthly|Weekly']\n"
     ]
    }
   ],
   "source": [
    "#visualizar valores unicos\n",
    "print(df.nunique())\n",
    "\n",
    "print(df[\"currency\"].unique())\n",
    "print(df[\"fee\"].unique())\n",
    "print(df[\"category\"].unique())\n",
    "print(df[\"has_photo\"].unique())\n",
    "print(df[\"pets_allowed\"].unique())\n",
    "print(df[\"price_type\"].unique())"
   ]
  },
  {
   "cell_type": "code",
   "execution_count": 19,
   "metadata": {},
   "outputs": [],
   "source": [
    "#Eliminar columnas no relevantes\n",
    "df = df.drop(columns=[\"title\", \"body\", \"currency\", \"fee\", \"price_display\", \"address\"])\n"
   ]
  },
  {
   "cell_type": "code",
   "execution_count": 20,
   "metadata": {},
   "outputs": [
    {
     "name": "stdout",
     "output_type": "stream",
     "text": [
      "id                 0\n",
      "category           0\n",
      "amenities       3549\n",
      "bathrooms         34\n",
      "bedrooms           7\n",
      "has_photo          0\n",
      "pets_allowed    4163\n",
      "price              0\n",
      "price_type         0\n",
      "square_feet        0\n",
      "cityname          77\n",
      "state             77\n",
      "latitude          10\n",
      "longitude         10\n",
      "source             0\n",
      "time               0\n",
      "dtype: int64\n"
     ]
    }
   ],
   "source": [
    "#Contar valores nulos\n",
    "print(df.isnull().sum())"
   ]
  },
  {
   "cell_type": "code",
   "execution_count": 21,
   "metadata": {},
   "outputs": [],
   "source": [
    "#Rellenar valores nulos\n",
    "\n",
    "#Se asume que nulos en mascotas y amenities significa que no se permiten mascotas y no se cuenta con amenities\n",
    "df[\"pets_allowed\"] = df[\"pets_allowed\"].fillna(\"No\")\n",
    "df[\"amenities\"] = df[\"amenities\"].fillna(\"No\")\n",
    "\n",
    "#Se remplaza los nulos de baños y habitaciones con la mediana\n",
    "df[\"bathrooms\"] = df[\"bathrooms\"].fillna(df[\"bathrooms\"].median())\n",
    "df[\"bedrooms\"] = df[\"bedrooms\"].fillna(df[\"bedrooms\"].median())\n"
   ]
  },
  {
   "cell_type": "code",
   "execution_count": 22,
   "metadata": {},
   "outputs": [
    {
     "name": "stdout",
     "output_type": "stream",
     "text": [
      "id               0\n",
      "category         0\n",
      "amenities        0\n",
      "bathrooms        0\n",
      "bedrooms         0\n",
      "has_photo        0\n",
      "pets_allowed     0\n",
      "price            0\n",
      "price_type       0\n",
      "square_feet      0\n",
      "cityname        77\n",
      "state           77\n",
      "latitude        10\n",
      "longitude       10\n",
      "source           0\n",
      "time             0\n",
      "dtype: int64\n"
     ]
    }
   ],
   "source": [
    "#Contar valores nulos\n",
    "print(df.isnull().sum())"
   ]
  },
  {
   "cell_type": "code",
   "execution_count": null,
   "metadata": {},
   "outputs": [],
   "source": [
    "#Remplazar nulos de ciudades y estados con la moda\n",
    "df[\"cityname\"] = df[\"cityname\"].fillna(df[\"cityname\"].mode()[0])\n",
    "df[\"state\"] = df[\"state\"].fillna(df[\"state\"].mode()[0])\n",
    "df[\"latitude\"] = df[\"latitude\"].fillna(df[\"latitude\"].mode()[0])\n",
    "df[\"longitude\"] = df[\"longitude\"].fillna(df[\"longitude\"].mode()[0])"
   ]
  },
  {
   "cell_type": "code",
   "execution_count": 26,
   "metadata": {},
   "outputs": [
    {
     "name": "stdout",
     "output_type": "stream",
     "text": [
      "id              0\n",
      "category        0\n",
      "amenities       0\n",
      "bathrooms       0\n",
      "bedrooms        0\n",
      "has_photo       0\n",
      "pets_allowed    0\n",
      "price           0\n",
      "price_type      0\n",
      "square_feet     0\n",
      "cityname        0\n",
      "state           0\n",
      "latitude        0\n",
      "longitude       0\n",
      "source          0\n",
      "time            0\n",
      "dtype: int64\n"
     ]
    }
   ],
   "source": [
    "#Contar valores nulos\n",
    "print(df.isnull().sum())"
   ]
  },
  {
   "cell_type": "code",
   "execution_count": null,
   "metadata": {},
   "outputs": [],
   "source": [
    "\n"
   ]
  }
 ],
 "metadata": {
  "kernelspec": {
   "display_name": "Python 3",
   "language": "python",
   "name": "python3"
  },
  "language_info": {
   "codemirror_mode": {
    "name": "ipython",
    "version": 3
   },
   "file_extension": ".py",
   "mimetype": "text/x-python",
   "name": "python",
   "nbconvert_exporter": "python",
   "pygments_lexer": "ipython3",
   "version": "3.11.9"
  }
 },
 "nbformat": 4,
 "nbformat_minor": 2
}
